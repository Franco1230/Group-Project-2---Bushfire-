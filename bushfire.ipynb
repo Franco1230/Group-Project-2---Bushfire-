{
 "cells": [
  {
   "cell_type": "code",
   "execution_count": 1,
   "metadata": {},
   "outputs": [],
   "source": [
    "# Dependencies\n",
    "import pandas as pd\n",
    "from pprint import pprint\n",
    "from splinter import Browser\n",
    "from bs4 import BeautifulSoup as bs\n",
    "from sqlalchemy import create_engine\n",
    "from webdriver_manager.chrome import ChromeDriverManager"
   ]
  },
  {
   "cell_type": "code",
   "execution_count": 2,
   "metadata": {},
   "outputs": [],
   "source": [
    "# Define function to choose the executable path\n",
    "def init_browser():\n",
    "    executable_path = {\"executable_path\": ChromeDriverManager().install()}\n",
    "    return Browser(\"chrome\", **executable_path, headless = False, user_agent = \"Mozilla/5.0 (Windows NT 10.0; Win64; x64) AppleWebKit/537.36 (KHTML, like Gecko) Chrome/95.0.4638.54 Safari/537.36\")\n",
    "\n",
    "# Set variable for multiple use string\n",
    "parser = \"html.parser\""
   ]
  },
  {
   "cell_type": "code",
   "execution_count": 3,
   "metadata": {},
   "outputs": [
    {
     "name": "stderr",
     "output_type": "stream",
     "text": [
      "[WDM] - \n",
      "\n",
      "[WDM] - ====== WebDriver manager ======\n",
      "[WDM] - Current google-chrome version is 96.0.4664\n",
      "[WDM] - Get LATEST driver version for 96.0.4664\n",
      "[WDM] - Driver [C:\\Users\\franc\\.wdm\\drivers\\chromedriver\\win32\\96.0.4664.45\\chromedriver.exe] found in cache\n"
     ]
    }
   ],
   "source": [
    "# Setup Browser\n",
    "browser = init_browser()"
   ]
  },
  {
   "cell_type": "markdown",
   "metadata": {},
   "source": [
    "# Connection to 9News"
   ]
  },
  {
   "cell_type": "code",
   "execution_count": 4,
   "metadata": {},
   "outputs": [],
   "source": [
    "# Visit to 9News website\n",
    "ninenews_url = \"http://www.9news.com.au/bushfires\"\n",
    "browser.visit(ninenews_url)\n",
    "\n",
    "# HTML Object\n",
    "html = browser.html\n",
    "\n",
    "# Parse HTML with Beautiful Soup\n",
    "ninenews_soup = bs(html, parser)"
   ]
  },
  {
   "cell_type": "markdown",
   "metadata": {},
   "source": [
    "## Latest Bushfire News"
   ]
  },
  {
   "cell_type": "code",
   "execution_count": 5,
   "metadata": {},
   "outputs": [
    {
     "name": "stdout",
     "output_type": "stream",
     "text": [
      "WA firefighters controlling fire that devastated 8000ha of unique forest\n"
     ]
    }
   ],
   "source": [
    "# Retrieve the latest article's title\n",
    "ninenews_title = ninenews_soup.find(\"span\", class_ = \"story__headline__text\")\n",
    "ninenews_title = ninenews_title.text.strip()\n",
    "print(ninenews_title)"
   ]
  },
  {
   "cell_type": "code",
   "execution_count": 6,
   "metadata": {},
   "outputs": [
    {
     "name": "stdout",
     "output_type": "stream",
     "text": [
      "The threat level for the Margaret River bushfire in WA has been downgraded to watch and act, four days after it was deliberately lit.\n"
     ]
    }
   ],
   "source": [
    "# Retrieve the latest article's paragraph\n",
    "ninenews_paragraph = ninenews_soup.find(\"div\", class_ = \"story__abstract\")\n",
    "ninenews_paragraph = ninenews_paragraph.text.strip()\n",
    "print(ninenews_paragraph)"
   ]
  },
  {
   "cell_type": "markdown",
   "metadata": {},
   "source": [
    "# 9News Images - Featured Image"
   ]
  },
  {
   "cell_type": "code",
   "execution_count": 23,
   "metadata": {},
   "outputs": [
    {
     "data": {
      "text/plain": [
       "'https://prod.static9.net.au/_/media/2018/08/17/08/52/bushfires-news-alerts.jpg'"
      ]
     },
     "execution_count": 23,
     "metadata": {},
     "output_type": "execute_result"
    }
   ],
   "source": [
    "image_soup = bs(html, parser)\n",
    "\n",
    "# Assign the image's full URL string to a variable called \"featured_image_url\"\n",
    "featured_image = image_soup.body.find_all(\"figure\", class_ = \"feed__image\")\n",
    "\n",
    "for i in featured_image:\n",
    "    featured_image_url = i.img[\"src\"]\n",
    "\n",
    "featured_image_url"
   ]
  },
  {
   "cell_type": "markdown",
   "metadata": {},
   "source": [
    "# Connect to ABCNews"
   ]
  },
  {
   "cell_type": "code",
   "execution_count": 8,
   "metadata": {},
   "outputs": [],
   "source": [
    "# Visit to ABCNews website\n",
    "abcnews_url = \"http://www.abc.net.au/news/topic/bushfire\"\n",
    "browser.visit(abcnews_url)\n",
    "\n",
    "# HTML Object\n",
    "html = browser.html\n",
    "\n",
    "# Parse HTML with Beautiful Soup\n",
    "abcnews_soup = bs(html, parser)"
   ]
  },
  {
   "cell_type": "markdown",
   "metadata": {},
   "source": [
    "## Latest Bushfire News"
   ]
  },
  {
   "cell_type": "code",
   "execution_count": 9,
   "metadata": {},
   "outputs": [
    {
     "name": "stdout",
     "output_type": "stream",
     "text": [
      "Joe has spent $80k cleaning up after Black Summer. He just wants someone to have his back\n"
     ]
    }
   ],
   "source": [
    "# Retrieve the latest article's title\n",
    "abcnews_title = abcnews_soup.find(\"span\", class_ = \"_3UTrd\")\n",
    "abcnews_title = abcnews_title.text.strip()\n",
    "print(abcnews_title)"
   ]
  },
  {
   "cell_type": "code",
   "execution_count": 10,
   "metadata": {},
   "outputs": [
    {
     "name": "stdout",
     "output_type": "stream",
     "text": [
      "It has been two years since the Black Summer bushfires tore through the Upper Murray and Joe Elias is still cleaning up at great personal and financial cost.\n"
     ]
    }
   ],
   "source": [
    "# Retrieve the latest article's paragraph\n",
    "abcnews_paragraph = abcnews_soup.find(\"div\", class_ = \"_1yL-m rMkro _1cBaI _3PhF6 _10YQT\")\n",
    "abcnews_paragraph = abcnews_paragraph.text.strip()\n",
    "print(abcnews_paragraph)"
   ]
  },
  {
   "cell_type": "markdown",
   "metadata": {},
   "source": [
    "# Connect to vic.gov"
   ]
  },
  {
   "cell_type": "code",
   "execution_count": 11,
   "metadata": {},
   "outputs": [],
   "source": [
    "# Visit to VicGov website\n",
    "vicgovnews_url = \"http://www.wildlife.vic.gov.au/home/biodiversity-bushfire-response-and-recovery\"\n",
    "browser.visit(vicgovnews_url)\n",
    "\n",
    "# HTML Object\n",
    "html = browser.html\n",
    "\n",
    "# Parse HTML with Beautiful Soup\n",
    "vicgovnews_soup = bs(html, parser)"
   ]
  },
  {
   "cell_type": "markdown",
   "metadata": {},
   "source": [
    "## Latest Bushfire News"
   ]
  },
  {
   "cell_type": "code",
   "execution_count": 12,
   "metadata": {},
   "outputs": [
    {
     "name": "stdout",
     "output_type": "stream",
     "text": [
      "Victoria’s bushfire emergency: Biodiversity response and recovery\n"
     ]
    }
   ],
   "source": [
    "# Retrieve the latest article's title\n",
    "vicgovnews_title = vicgovnews_soup.find(\"h1\", class_ = \"title-banner__heading\")\n",
    "vicgovnews_title = vicgovnews_title.text.strip()\n",
    "print(vicgovnews_title)"
   ]
  },
  {
   "cell_type": "code",
   "execution_count": 13,
   "metadata": {},
   "outputs": [
    {
     "name": "stdout",
     "output_type": "stream",
     "text": [
      "The 2019/20 fires were exceptional in size and impact. The Department of Environment, Land, Water and Planning is continuing to coordinate and deliver actions to support and protect Victoria’s plants and animals following the fires.\n"
     ]
    }
   ],
   "source": [
    "# Retrieve the latest article's paragraph\n",
    "vicgovnews_paragraph = vicgovnews_soup.find(\"p\", class_ = \"title-banner__descr\")\n",
    "vicgovnews_paragraph = vicgovnews_paragraph.text.strip()\n",
    "print(vicgovnews_paragraph)"
   ]
  },
  {
   "cell_type": "code",
   "execution_count": 14,
   "metadata": {},
   "outputs": [],
   "source": [
    "browser.quit()"
   ]
  },
  {
   "cell_type": "code",
   "execution_count": 15,
   "metadata": {},
   "outputs": [
    {
     "name": "stdout",
     "output_type": "stream",
     "text": [
      "{'ninenews_title': 'WA firefighters controlling fire that devastated 8000ha of unique forest', 'ninenews_paragraph': 'The threat level for the Margaret River bushfire in WA has been downgraded to watch and act, four days after it was deliberately lit.', 'featured_image_url': 'https://prod.static9.net.au/_/media/2018/08/17/08/52/bushfires-news-alerts.jpg', 'abcnews_title': 'Joe has spent $80k cleaning up after Black Summer. He just wants someone to have his back', 'abcnews_paragraph': 'It has been two years since\\xa0the Black Summer bushfires tore through the Upper Murray and Joe Elias is still cleaning up at great personal and financial cost.', 'vicgovnews_title': 'Victoria’s bushfire emergency: Biodiversity response and recovery', 'vicgovnews_paragraph': 'The 2019/20 fires were exceptional in size and impact. The Department of Environment, Land, Water and Planning is continuing to coordinate and deliver actions to support and protect Victoria’s plants and animals following the fires.'}\n"
     ]
    }
   ],
   "source": [
    "# Create dictionary for all Mars Data\n",
    "bushfire = {}\n",
    "\n",
    "# Append news_title and news_paragraph to mars_data\n",
    "bushfire[\"ninenews_title\"] = ninenews_title\n",
    "bushfire[\"ninenews_paragraph\"] = ninenews_paragraph\n",
    "bushfire[\"featured_image_url\"] = featured_image_url\n",
    "bushfire[\"abcnews_title\"] = abcnews_title\n",
    "bushfire[\"abcnews_paragraph\"] = abcnews_paragraph\n",
    "bushfire[\"vicgovnews_title\"] = vicgovnews_title\n",
    "bushfire[\"vicgovnews_paragraph\"] = vicgovnews_paragraph\n",
    "\n",
    "print(bushfire)"
   ]
  },
  {
   "cell_type": "code",
   "execution_count": 16,
   "metadata": {},
   "outputs": [
    {
     "data": {
      "text/html": [
       "<div>\n",
       "<style scoped>\n",
       "    .dataframe tbody tr th:only-of-type {\n",
       "        vertical-align: middle;\n",
       "    }\n",
       "\n",
       "    .dataframe tbody tr th {\n",
       "        vertical-align: top;\n",
       "    }\n",
       "\n",
       "    .dataframe thead th {\n",
       "        text-align: right;\n",
       "    }\n",
       "</style>\n",
       "<table border=\"1\" class=\"dataframe\">\n",
       "  <thead>\n",
       "    <tr style=\"text-align: right;\">\n",
       "      <th></th>\n",
       "      <th>0</th>\n",
       "    </tr>\n",
       "  </thead>\n",
       "  <tbody>\n",
       "    <tr>\n",
       "      <th>ninenews_title</th>\n",
       "      <td>WA firefighters controlling fire that devastat...</td>\n",
       "    </tr>\n",
       "    <tr>\n",
       "      <th>ninenews_paragraph</th>\n",
       "      <td>The threat level for the Margaret River bushfi...</td>\n",
       "    </tr>\n",
       "    <tr>\n",
       "      <th>featured_image_url</th>\n",
       "      <td>https://prod.static9.net.au/_/media/2018/08/17...</td>\n",
       "    </tr>\n",
       "    <tr>\n",
       "      <th>abcnews_title</th>\n",
       "      <td>Joe has spent $80k cleaning up after Black Sum...</td>\n",
       "    </tr>\n",
       "    <tr>\n",
       "      <th>abcnews_paragraph</th>\n",
       "      <td>It has been two years since the Black Summer b...</td>\n",
       "    </tr>\n",
       "    <tr>\n",
       "      <th>vicgovnews_title</th>\n",
       "      <td>Victoria’s bushfire emergency: Biodiversity re...</td>\n",
       "    </tr>\n",
       "    <tr>\n",
       "      <th>vicgovnews_paragraph</th>\n",
       "      <td>The 2019/20 fires were exceptional in size and...</td>\n",
       "    </tr>\n",
       "  </tbody>\n",
       "</table>\n",
       "</div>"
      ],
      "text/plain": [
       "                                                                      0\n",
       "ninenews_title        WA firefighters controlling fire that devastat...\n",
       "ninenews_paragraph    The threat level for the Margaret River bushfi...\n",
       "featured_image_url    https://prod.static9.net.au/_/media/2018/08/17...\n",
       "abcnews_title         Joe has spent $80k cleaning up after Black Sum...\n",
       "abcnews_paragraph     It has been two years since the Black Summer b...\n",
       "vicgovnews_title      Victoria’s bushfire emergency: Biodiversity re...\n",
       "vicgovnews_paragraph  The 2019/20 fires were exceptional in size and..."
      ]
     },
     "execution_count": 16,
     "metadata": {},
     "output_type": "execute_result"
    }
   ],
   "source": [
    "# Store the scraped data into DataFrame\n",
    "fire_news_df = pd.DataFrame.from_dict(bushfire, orient = \"index\")\n",
    "fire_news_df"
   ]
  },
  {
   "cell_type": "code",
   "execution_count": 17,
   "metadata": {},
   "outputs": [
    {
     "data": {
      "text/html": [
       "<div>\n",
       "<style scoped>\n",
       "    .dataframe tbody tr th:only-of-type {\n",
       "        vertical-align: middle;\n",
       "    }\n",
       "\n",
       "    .dataframe tbody tr th {\n",
       "        vertical-align: top;\n",
       "    }\n",
       "\n",
       "    .dataframe thead th {\n",
       "        text-align: right;\n",
       "    }\n",
       "</style>\n",
       "<table border=\"1\" class=\"dataframe\">\n",
       "  <thead>\n",
       "    <tr style=\"text-align: right;\">\n",
       "      <th></th>\n",
       "      <th>ninenews_title</th>\n",
       "      <th>ninenews_paragraph</th>\n",
       "      <th>featured_image_url</th>\n",
       "      <th>abcnews_title</th>\n",
       "      <th>abcnews_paragraph</th>\n",
       "      <th>vicgovnews_title</th>\n",
       "      <th>vicgovnews_paragraph</th>\n",
       "    </tr>\n",
       "  </thead>\n",
       "  <tbody>\n",
       "    <tr>\n",
       "      <th>0</th>\n",
       "      <td>WA firefighters controlling fire that devastat...</td>\n",
       "      <td>The threat level for the Margaret River bushfi...</td>\n",
       "      <td>https://prod.static9.net.au/_/media/2018/08/17...</td>\n",
       "      <td>Joe has spent $80k cleaning up after Black Sum...</td>\n",
       "      <td>It has been two years since the Black Summer b...</td>\n",
       "      <td>Victoria’s bushfire emergency: Biodiversity re...</td>\n",
       "      <td>The 2019/20 fires were exceptional in size and...</td>\n",
       "    </tr>\n",
       "  </tbody>\n",
       "</table>\n",
       "</div>"
      ],
      "text/plain": [
       "                                      ninenews_title  \\\n",
       "0  WA firefighters controlling fire that devastat...   \n",
       "\n",
       "                                  ninenews_paragraph  \\\n",
       "0  The threat level for the Margaret River bushfi...   \n",
       "\n",
       "                                  featured_image_url  \\\n",
       "0  https://prod.static9.net.au/_/media/2018/08/17...   \n",
       "\n",
       "                                       abcnews_title  \\\n",
       "0  Joe has spent $80k cleaning up after Black Sum...   \n",
       "\n",
       "                                   abcnews_paragraph  \\\n",
       "0  It has been two years since the Black Summer b...   \n",
       "\n",
       "                                    vicgovnews_title  \\\n",
       "0  Victoria’s bushfire emergency: Biodiversity re...   \n",
       "\n",
       "                                vicgovnews_paragraph  \n",
       "0  The 2019/20 fires were exceptional in size and...  "
      ]
     },
     "execution_count": 17,
     "metadata": {},
     "output_type": "execute_result"
    }
   ],
   "source": [
    "fire_news_df_t = fire_news_df.T\n",
    "fire_news_df_t"
   ]
  },
  {
   "cell_type": "code",
   "execution_count": 18,
   "metadata": {},
   "outputs": [
    {
     "data": {
      "text/html": [
       "<div>\n",
       "<style scoped>\n",
       "    .dataframe tbody tr th:only-of-type {\n",
       "        vertical-align: middle;\n",
       "    }\n",
       "\n",
       "    .dataframe tbody tr th {\n",
       "        vertical-align: top;\n",
       "    }\n",
       "\n",
       "    .dataframe thead th {\n",
       "        text-align: right;\n",
       "    }\n",
       "</style>\n",
       "<table border=\"1\" class=\"dataframe\">\n",
       "  <thead>\n",
       "    <tr style=\"text-align: right;\">\n",
       "      <th></th>\n",
       "      <th>ninenews_paragraph</th>\n",
       "      <th>featured_image_url</th>\n",
       "      <th>abcnews_title</th>\n",
       "      <th>abcnews_paragraph</th>\n",
       "      <th>vicgovnews_title</th>\n",
       "      <th>vicgovnews_paragraph</th>\n",
       "    </tr>\n",
       "    <tr>\n",
       "      <th>ninenews_title</th>\n",
       "      <th></th>\n",
       "      <th></th>\n",
       "      <th></th>\n",
       "      <th></th>\n",
       "      <th></th>\n",
       "      <th></th>\n",
       "    </tr>\n",
       "  </thead>\n",
       "  <tbody>\n",
       "    <tr>\n",
       "      <th>WA firefighters controlling fire that devastated 8000ha of unique forest</th>\n",
       "      <td>The threat level for the Margaret River bushfi...</td>\n",
       "      <td>https://prod.static9.net.au/_/media/2018/08/17...</td>\n",
       "      <td>Joe has spent $80k cleaning up after Black Sum...</td>\n",
       "      <td>It has been two years since the Black Summer b...</td>\n",
       "      <td>Victoria’s bushfire emergency: Biodiversity re...</td>\n",
       "      <td>The 2019/20 fires were exceptional in size and...</td>\n",
       "    </tr>\n",
       "  </tbody>\n",
       "</table>\n",
       "</div>"
      ],
      "text/plain": [
       "                                                                                   ninenews_paragraph  \\\n",
       "ninenews_title                                                                                          \n",
       "WA firefighters controlling fire that devastate...  The threat level for the Margaret River bushfi...   \n",
       "\n",
       "                                                                                   featured_image_url  \\\n",
       "ninenews_title                                                                                          \n",
       "WA firefighters controlling fire that devastate...  https://prod.static9.net.au/_/media/2018/08/17...   \n",
       "\n",
       "                                                                                        abcnews_title  \\\n",
       "ninenews_title                                                                                          \n",
       "WA firefighters controlling fire that devastate...  Joe has spent $80k cleaning up after Black Sum...   \n",
       "\n",
       "                                                                                    abcnews_paragraph  \\\n",
       "ninenews_title                                                                                          \n",
       "WA firefighters controlling fire that devastate...  It has been two years since the Black Summer b...   \n",
       "\n",
       "                                                                                     vicgovnews_title  \\\n",
       "ninenews_title                                                                                          \n",
       "WA firefighters controlling fire that devastate...  Victoria’s bushfire emergency: Biodiversity re...   \n",
       "\n",
       "                                                                                 vicgovnews_paragraph  \n",
       "ninenews_title                                                                                         \n",
       "WA firefighters controlling fire that devastate...  The 2019/20 fires were exceptional in size and...  "
      ]
     },
     "execution_count": 18,
     "metadata": {},
     "output_type": "execute_result"
    }
   ],
   "source": [
    "fire_news_df_t = fire_news_df_t.set_index(\"ninenews_title\")\n",
    "fire_news_df_t"
   ]
  },
  {
   "cell_type": "code",
   "execution_count": 19,
   "metadata": {},
   "outputs": [],
   "source": [
    "# Connection to PostgreSQL\n",
    "connection_string = \"postgres:HnF071019@localhost:5433/bushFire_db\"\n",
    "engine = create_engine(f\"postgresql://{connection_string}\")"
   ]
  },
  {
   "cell_type": "code",
   "execution_count": 20,
   "metadata": {},
   "outputs": [
    {
     "name": "stderr",
     "output_type": "stream",
     "text": [
      "C:\\Users\\franc\\AppData\\Local\\Temp/ipykernel_47296/3038528634.py:2: SADeprecationWarning: The Engine.table_names() method is deprecated and will be removed in a future release.  Please refer to Inspector.get_table_names(). (deprecated since: 1.4)\n",
      "  engine.table_names()\n"
     ]
    },
    {
     "data": {
      "text/plain": [
       "['forest_damage', 'fire_latest_news', 'fire_location']"
      ]
     },
     "execution_count": 20,
     "metadata": {},
     "output_type": "execute_result"
    }
   ],
   "source": [
    "# Check Tables\n",
    "engine.table_names()"
   ]
  },
  {
   "cell_type": "code",
   "execution_count": 21,
   "metadata": {},
   "outputs": [],
   "source": [
    "# Store DataFrame into PostgreSQL\n",
    "fire_news_df_t.to_sql(name = \"fire_latest_news\", con = engine, if_exists = \"replace\", index = True)"
   ]
  },
  {
   "cell_type": "code",
   "execution_count": 22,
   "metadata": {},
   "outputs": [
    {
     "name": "stdout",
     "output_type": "stream",
     "text": [
      "('WA firefighters controlling fire that devastated 8000ha of unique forest', 'The threat level for the Margaret River bushfire in WA has been downgraded to watch and act, four days after it was deliberately lit.', 'https://prod.static9.net.au/_/media/2018/08/17/08/52/bushfires-news-alerts.jpg', 'Joe has spent $80k cleaning up after Black Summer. He just wants someone to have his back', 'It has been two years since\\xa0the Black Summer bushfires tore through the Upper Murray and Joe Elias is still cleaning up at great personal and financial cost.', 'Victoria’s bushfire emergency: Biodiversity response and recovery', 'The 2019/20 fires were exceptional in size and impact. The Department of Environment, Land, Water and Planning is continuing to coordinate and deliver actions to support and protect Victoria’s plants and animals following the fires.')\n"
     ]
    }
   ],
   "source": [
    "result_set = engine.execute(\"SELECT * FROM fire_latest_news\")  \n",
    "for r in result_set:  \n",
    "    print(r)"
   ]
  }
 ],
 "metadata": {
  "interpreter": {
   "hash": "cba033dbfb308e6ef82904202bf1aac94d65a342a0fa0b8648c060ba2fe22e31"
  },
  "kernelspec": {
   "display_name": "Python 3.9.7 64-bit (windows store)",
   "name": "python3"
  },
  "language_info": {
   "codemirror_mode": {
    "name": "ipython",
    "version": 3
   },
   "file_extension": ".py",
   "mimetype": "text/x-python",
   "name": "python",
   "nbconvert_exporter": "python",
   "pygments_lexer": "ipython3",
   "version": "3.9.9"
  },
  "orig_nbformat": 4
 },
 "nbformat": 4,
 "nbformat_minor": 2
}
