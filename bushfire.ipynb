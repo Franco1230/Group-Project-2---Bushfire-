{
 "cells": [
  {
   "cell_type": "code",
   "execution_count": 1,
   "metadata": {},
   "outputs": [],
   "source": [
    "# Dependencies\n",
    "import pandas as pd\n",
    "from pprint import pprint\n",
    "from splinter import Browser\n",
    "from bs4 import BeautifulSoup as bs\n",
    "from sqlalchemy import create_engine\n",
    "from webdriver_manager.chrome import ChromeDriverManager"
   ]
  },
  {
   "cell_type": "code",
   "execution_count": 2,
   "metadata": {},
   "outputs": [],
   "source": [
    "# Define function to choose the executable path\n",
    "def init_browser():\n",
    "    executable_path = {\"executable_path\": ChromeDriverManager().install()}\n",
    "    return Browser(\"chrome\", **executable_path, headless = False, user_agent = \"Mozilla/5.0 (Windows NT 10.0; Win64; x64) AppleWebKit/537.36 (KHTML, like Gecko) Chrome/95.0.4638.54 Safari/537.36\")\n",
    "\n",
    "# Set variable for multiple use string\n",
    "parser = \"html.parser\""
   ]
  },
  {
   "cell_type": "code",
   "execution_count": 3,
   "metadata": {},
   "outputs": [
    {
     "name": "stderr",
     "output_type": "stream",
     "text": [
      "[WDM] - \n",
      "\n",
      "[WDM] - ====== WebDriver manager ======\n",
      "[WDM] - Current google-chrome version is 96.0.4664\n",
      "[WDM] - Get LATEST driver version for 96.0.4664\n",
      "[WDM] - Driver [C:\\Users\\franc\\.wdm\\drivers\\chromedriver\\win32\\96.0.4664.45\\chromedriver.exe] found in cache\n"
     ]
    }
   ],
   "source": [
    "# Setup Browser\n",
    "browser = init_browser()"
   ]
  },
  {
   "cell_type": "markdown",
   "metadata": {},
   "source": [
    "# Connection to 9News"
   ]
  },
  {
   "cell_type": "code",
   "execution_count": 4,
   "metadata": {},
   "outputs": [],
   "source": [
    "# Visit to 9News website\n",
    "bushfire_news_url = \"http://www.9news.com.au/bushfires\"\n",
    "browser.visit(bushfire_news_url)\n",
    "\n",
    "# HTML Object\n",
    "html = browser.html\n",
    "\n",
    "# Parse HTML with Beautiful Soup\n",
    "news_soup = bs(html, parser)"
   ]
  },
  {
   "cell_type": "markdown",
   "metadata": {},
   "source": [
    "## Latest Bushfire News"
   ]
  },
  {
   "cell_type": "code",
   "execution_count": 5,
   "metadata": {},
   "outputs": [
    {
     "name": "stdout",
     "output_type": "stream",
     "text": [
      "Incredible moment roof collapses in Sydney after severe storm\n"
     ]
    }
   ],
   "source": [
    "# Retrieve the latest article's title\n",
    "news_title = news_soup.find(\"h3\", class_ = \"story__headline\")\n",
    "news_title = news_title.text.strip()\n",
    "print(news_title)"
   ]
  },
  {
   "cell_type": "code",
   "execution_count": 6,
   "metadata": {},
   "outputs": [
    {
     "name": "stdout",
     "output_type": "stream",
     "text": [
      "A massive storm cell hit Sydney, bringing heavy rainfall and giant hailstones.\n"
     ]
    }
   ],
   "source": [
    "# Retrieve the latest article's paragraph\n",
    "news_paragraph = news_soup.find(\"div\", class_ = \"story__abstract\")\n",
    "news_paragraph = news_paragraph.text.strip()\n",
    "print(news_paragraph)"
   ]
  },
  {
   "cell_type": "markdown",
   "metadata": {},
   "source": [
    "# Connection to 9News for featured Image"
   ]
  },
  {
   "cell_type": "code",
   "execution_count": 7,
   "metadata": {},
   "outputs": [],
   "source": [
    "# Connect to Featured Space Image site\n",
    "featured_image_url = \"http://www.9news.com.au/bushfires\"\n",
    "browser.visit(featured_image_url)\n",
    "\n",
    "# HTML Object\n",
    "html = browser.html\n",
    "\n",
    "# Parse HTML with Beautiful Soup\n",
    "image_soup = bs(html, parser)"
   ]
  },
  {
   "cell_type": "markdown",
   "metadata": {},
   "source": [
    "## 9news Images - Featured Image"
   ]
  },
  {
   "cell_type": "code",
   "execution_count": 8,
   "metadata": {},
   "outputs": [
    {
     "name": "stdout",
     "output_type": "stream",
     "text": [
      "https://prod.static9.net.au/_/media/2018/08/17/08/52/bushfires-news-alerts.jpg\n"
     ]
    }
   ],
   "source": [
    "# Assign the image's full URL string to a variable called \"featured_image_url\"\n",
    "featured_image = image_soup.body.find_all(\"figure\", class_ = \"feed__image\")\n",
    "\n",
    "for i in featured_image:\n",
    "    print(i.img[\"src\"])\n",
    "\n",
    "featured_image_url = i.img[\"src\"]"
   ]
  },
  {
   "cell_type": "code",
   "execution_count": 9,
   "metadata": {},
   "outputs": [
    {
     "name": "stdout",
     "output_type": "stream",
     "text": [
      "https://prod.static9.net.au/_/media/2018/08/17/08/52/bushfires-news-alerts.jpg\n"
     ]
    }
   ],
   "source": [
    "print(featured_image_url)"
   ]
  },
  {
   "cell_type": "code",
   "execution_count": 10,
   "metadata": {},
   "outputs": [
    {
     "name": "stdout",
     "output_type": "stream",
     "text": [
      "{'news_title': 'Incredible moment roof collapses in Sydney after severe storm', 'news_paragraph': 'A massive storm cell hit Sydney, bringing heavy rainfall and giant hailstones.', 'featured_image_url': 'https://prod.static9.net.au/_/media/2018/08/17/08/52/bushfires-news-alerts.jpg'}\n"
     ]
    }
   ],
   "source": [
    "# Create dictionary for all Mars Data\n",
    "bushfire = {}\n",
    "\n",
    "# Append news_title and news_paragraph to mars_data\n",
    "bushfire[\"news_title\"] = news_title\n",
    "bushfire[\"news_paragraph\"] = news_paragraph  \n",
    "bushfire[\"featured_image_url\"] = featured_image_url\n",
    "\n",
    "print(bushfire)"
   ]
  },
  {
   "cell_type": "code",
   "execution_count": null,
   "metadata": {},
   "outputs": [],
   "source": [
    "browser.quit()"
   ]
  },
  {
   "cell_type": "code",
   "execution_count": 11,
   "metadata": {},
   "outputs": [
    {
     "data": {
      "text/html": [
       "<div>\n",
       "<style scoped>\n",
       "    .dataframe tbody tr th:only-of-type {\n",
       "        vertical-align: middle;\n",
       "    }\n",
       "\n",
       "    .dataframe tbody tr th {\n",
       "        vertical-align: top;\n",
       "    }\n",
       "\n",
       "    .dataframe thead th {\n",
       "        text-align: right;\n",
       "    }\n",
       "</style>\n",
       "<table border=\"1\" class=\"dataframe\">\n",
       "  <thead>\n",
       "    <tr style=\"text-align: right;\">\n",
       "      <th></th>\n",
       "      <th>0</th>\n",
       "    </tr>\n",
       "  </thead>\n",
       "  <tbody>\n",
       "    <tr>\n",
       "      <th>news_title</th>\n",
       "      <td>Incredible moment roof collapses in Sydney aft...</td>\n",
       "    </tr>\n",
       "    <tr>\n",
       "      <th>news_paragraph</th>\n",
       "      <td>A massive storm cell hit Sydney, bringing heav...</td>\n",
       "    </tr>\n",
       "    <tr>\n",
       "      <th>featured_image_url</th>\n",
       "      <td>https://prod.static9.net.au/_/media/2018/08/17...</td>\n",
       "    </tr>\n",
       "  </tbody>\n",
       "</table>\n",
       "</div>"
      ],
      "text/plain": [
       "                                                                    0\n",
       "news_title          Incredible moment roof collapses in Sydney aft...\n",
       "news_paragraph      A massive storm cell hit Sydney, bringing heav...\n",
       "featured_image_url  https://prod.static9.net.au/_/media/2018/08/17..."
      ]
     },
     "execution_count": 11,
     "metadata": {},
     "output_type": "execute_result"
    }
   ],
   "source": [
    "news_df = pd.DataFrame.from_dict(bushfire, orient = \"index\")\n",
    "news_df"
   ]
  },
  {
   "cell_type": "code",
   "execution_count": 12,
   "metadata": {},
   "outputs": [
    {
     "data": {
      "text/html": [
       "<div>\n",
       "<style scoped>\n",
       "    .dataframe tbody tr th:only-of-type {\n",
       "        vertical-align: middle;\n",
       "    }\n",
       "\n",
       "    .dataframe tbody tr th {\n",
       "        vertical-align: top;\n",
       "    }\n",
       "\n",
       "    .dataframe thead th {\n",
       "        text-align: right;\n",
       "    }\n",
       "</style>\n",
       "<table border=\"1\" class=\"dataframe\">\n",
       "  <thead>\n",
       "    <tr style=\"text-align: right;\">\n",
       "      <th></th>\n",
       "      <th>news_title</th>\n",
       "      <th>news_paragraph</th>\n",
       "      <th>featured_image_url</th>\n",
       "    </tr>\n",
       "  </thead>\n",
       "  <tbody>\n",
       "    <tr>\n",
       "      <th>0</th>\n",
       "      <td>Incredible moment roof collapses in Sydney aft...</td>\n",
       "      <td>A massive storm cell hit Sydney, bringing heav...</td>\n",
       "      <td>https://prod.static9.net.au/_/media/2018/08/17...</td>\n",
       "    </tr>\n",
       "  </tbody>\n",
       "</table>\n",
       "</div>"
      ],
      "text/plain": [
       "                                          news_title  \\\n",
       "0  Incredible moment roof collapses in Sydney aft...   \n",
       "\n",
       "                                      news_paragraph  \\\n",
       "0  A massive storm cell hit Sydney, bringing heav...   \n",
       "\n",
       "                                  featured_image_url  \n",
       "0  https://prod.static9.net.au/_/media/2018/08/17...  "
      ]
     },
     "execution_count": 12,
     "metadata": {},
     "output_type": "execute_result"
    }
   ],
   "source": [
    "news_df_t = news_df.T\n",
    "news_df_t"
   ]
  },
  {
   "cell_type": "code",
   "execution_count": null,
   "metadata": {},
   "outputs": [],
   "source": [
    "connection_string = \"postgres:HnF071019@localhost:5432/bushFire_db\"\n",
    "engine = create_engine(f\"postgresql://{connection_string}\")"
   ]
  }
 ],
 "metadata": {
  "interpreter": {
   "hash": "cba033dbfb308e6ef82904202bf1aac94d65a342a0fa0b8648c060ba2fe22e31"
  },
  "kernelspec": {
   "display_name": "Python 3.9.7 64-bit (windows store)",
   "name": "python3"
  },
  "language_info": {
   "codemirror_mode": {
    "name": "ipython",
    "version": 3
   },
   "file_extension": ".py",
   "mimetype": "text/x-python",
   "name": "python",
   "nbconvert_exporter": "python",
   "pygments_lexer": "ipython3",
   "version": "3.9.9"
  },
  "orig_nbformat": 4
 },
 "nbformat": 4,
 "nbformat_minor": 2
}
